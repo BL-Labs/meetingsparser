{
 "cells": [
  {
   "cell_type": "markdown",
   "metadata": {},
   "source": [
    "   ## CSV parse"
   ]
  },
  {
   "cell_type": "code",
   "execution_count": 1,
   "metadata": {
    "collapsed": false
   },
   "outputs": [
    {
     "name": "stdout",
     "output_type": "stream",
     "text": [
      "Number of rows: 266 (Number with a lat/long: 241)\n"
     ]
    }
   ],
   "source": [
    "import csv\n",
    "\n",
    "with open(\"testgeoreferencedmeetings.csv\", \"r\") as inputfile:\n",
    "    doc = csv.DictReader(inputfile)\n",
    "    g = 0\n",
    "    for idx, row in enumerate(doc):\n",
    "        if row['geolocation:latitude'] and row['geolocation:longitude']:\n",
    "            g += 1\n",
    "    print(\"Number of rows: {0} (Number with a lat/long: {1})\".format(idx+1, g))"
   ]
  },
  {
   "cell_type": "code",
   "execution_count": null,
   "metadata": {
    "collapsed": true
   },
   "outputs": [],
   "source": []
  }
 ],
 "metadata": {
  "kernelspec": {
   "display_name": "Python 3",
   "language": "python",
   "name": "python3"
  },
  "language_info": {
   "codemirror_mode": {
    "name": "ipython",
    "version": 3
   },
   "file_extension": ".py",
   "mimetype": "text/x-python",
   "name": "python",
   "nbconvert_exporter": "python",
   "pygments_lexer": "ipython3",
   "version": "3.4.3"
  }
 },
 "nbformat": 4,
 "nbformat_minor": 0
}
