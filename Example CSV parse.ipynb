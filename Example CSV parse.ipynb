{
 "cells": [
  {
   "cell_type": "markdown",
   "metadata": {},
   "source": [
    "   ## CSV parse"
   ]
  },
  {
   "cell_type": "code",
   "execution_count": 7,
   "metadata": {
    "collapsed": false
   },
   "outputs": [
    {
     "name": "stdout",
     "output_type": "stream",
     "text": [
      "Number of rows: 266 (Number with a lat/long: 241)\n"
     ]
    }
   ],
   "source": [
    "import csv\n",
    "\n",
    "def get_doc():\n",
    "    with open(\"testgeoreferencedmeetings.csv\", \"r\") as inputfile:\n",
    "        doc = csv.DictReader(inputfile)\n",
    "        outputlist = []\n",
    "        g = 0\n",
    "        for idx, row in enumerate(doc):\n",
    "            if row['geolocation:latitude'] and row['geolocation:longitude']:\n",
    "                g += 1\n",
    "            #Add the item to the outputlist, regardless\n",
    "            outputlist.append(row)\n",
    "        print(\"Number of rows: {0} (Number with a lat/long: {1})\".format(idx+1, g))\n",
    "    return outputlist\n",
    "\n",
    "geodoc = get_doc()"
   ]
  },
  {
   "cell_type": "markdown",
   "metadata": {
    "collapsed": true
   },
   "source": [
    "Let's see what the last line looks like:"
   ]
  },
  {
   "cell_type": "code",
   "execution_count": 8,
   "metadata": {
    "collapsed": false
   },
   "outputs": [
    {
     "data": {
      "text/plain": [
       "{'Dublin Core:Date': '31/07/1841',\n",
       " 'Item Type Metadata:Date of meeting': '',\n",
       " 'Item Type Metadata:Newspaper': 'Northern Star',\n",
       " 'Item Type Metadata:NewspaperText': 'LIVERPOOL. - Mr. B. McCartney will lecture in the Association Room, Preston-Street, on Wednesday evening next.',\n",
       " 'Item Type Metadata:Place': 'Liverpool',\n",
       " 'geolocation:address': '',\n",
       " 'geolocation:latitude': '53.4054719',\n",
       " 'geolocation:longitude': '-2.9805393',\n",
       " 'geolocation:map_type': '',\n",
       " 'geolocation:zoom_level': '7',\n",
       " 'itemType': 'Meeting'}"
      ]
     },
     "execution_count": 8,
     "metadata": {},
     "output_type": "execute_result"
    }
   ],
   "source": [
    "geodoc[-1]"
   ]
  },
  {
   "cell_type": "code",
   "execution_count": 11,
   "metadata": {
    "collapsed": false
   },
   "outputs": [
    {
     "data": {
      "text/plain": [
       "{'Dublin Core:Date': '10/04/1841',\n",
       " 'Item Type Metadata:Date of meeting': '',\n",
       " 'Item Type Metadata:Newspaper': 'Northern Star',\n",
       " 'Item Type Metadata:NewspaperText': 'SOUTH LANCASHIRE.   The South Lancashire Dele gate Meeting will be held on Sunday morning, April 18th, at ten o clock, in the Charter Association Rooms, Brown-street, Manchester.,,\\nLectures.   Mr. James Leech will lecture at the following places On Monday, April 12th, at Denton ; on Wednesday, the 14th, at Chorlton-upon- Medlock ; on Thursday, the 15th, at Mottram ; on Friday, the 16th, at Milnrow ; and on Sunday, the 18th, at Ratcliffe. Mr. William Butterworth will also lecture at Chowbent on Sunday (to-morrow), April 11th.',\n",
       " 'Item Type Metadata:Place': 'South Lancashire',\n",
       " 'geolocation:address': '',\n",
       " 'geolocation:latitude': '53.8849416',\n",
       " 'geolocation:longitude': '-2.5758971',\n",
       " 'geolocation:map_type': '',\n",
       " 'geolocation:zoom_level': '7',\n",
       " 'itemType': 'Meeting'}"
      ]
     },
     "execution_count": 11,
     "metadata": {},
     "output_type": "execute_result"
    }
   ],
   "source": [
    "geodoc[102]"
   ]
  },
  {
   "cell_type": "code",
   "execution_count": null,
   "metadata": {
    "collapsed": true
   },
   "outputs": [],
   "source": []
  }
 ],
 "metadata": {
  "kernelspec": {
   "display_name": "Python 3",
   "language": "python",
   "name": "python3"
  },
  "language_info": {
   "codemirror_mode": {
    "name": "ipython",
    "version": 3
   },
   "file_extension": ".py",
   "mimetype": "text/x-python",
   "name": "python",
   "nbconvert_exporter": "python",
   "pygments_lexer": "ipython3",
   "version": "3.4.3"
  }
 },
 "nbformat": 4,
 "nbformat_minor": 0
}
