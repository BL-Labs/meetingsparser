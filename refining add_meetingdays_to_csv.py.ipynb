{
 "cells": [
  {
   "cell_type": "markdown",
   "metadata": {},
   "source": [
    "refining add_meetingdays_to_csv.py\n",
    "\n",
    "currently, the code does 1 and 3 of the following:\n",
    "\n",
    "1 - a single match is found (ie one of the day matches) = daysfound.csv\n",
    "2 - more than one match is found \n",
    "3 - no matches are found = unmatched.csv\n",
    "\n",
    "\n",
    "step 2 - \n",
    "\n",
    "- for each matching word, estimate the date it suggests\n",
    "- compare all the dates\n",
    "\n",
    "step 3 - \n",
    "This creates further decisions:\n",
    "\n",
    "- what to do if all the dates agree? (easy answer) = \n",
    "keep as one item? \n",
    "\n",
    "- what to do if they are all different? (likely a tour) = \n",
    "separate into another file called tours? or change the ItemType to 'Tour'?\n",
    "\n",
    "- what to do if they *mostly* agree? (tricky...) = \n",
    "separate into another file for next round of deciding what to do with them."
   ]
  }
 ],
 "metadata": {
  "kernelspec": {
   "display_name": "Python 3",
   "language": "python",
   "name": "python3"
  },
  "language_info": {
   "codemirror_mode": {
    "name": "ipython",
    "version": 3
   },
   "file_extension": ".py",
   "mimetype": "text/x-python",
   "name": "python",
   "nbconvert_exporter": "python",
   "pygments_lexer": "ipython3",
   "version": "3.4.3"
  }
 },
 "nbformat": 4,
 "nbformat_minor": 0
}
