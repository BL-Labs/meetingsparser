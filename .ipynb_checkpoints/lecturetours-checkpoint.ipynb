{
 "cells": [
  {
   "cell_type": "markdown",
   "metadata": {},
   "source": [
    "Tool to identify lecture tours from the metadata in \"outputgeo10.csv\".\n",
    "First stage is to identify the line as a tour.\n",
    "Second stage is to identify the places? \n",
    "\n",
    "Patterns of text for lecture tours\n",
    "\"day\" = Monday OR Tuesday OR Wednesday OR Thursday OR Friday OR Saturday OR Sunday\n",
    "\"site\" = name of building\n",
    "\"place\" = town (column 3 of outputgeo10.csv)\n",
    "\n",
    "\n",
    "\"Lectures will be delivered at the following places on\" is a common phrase.\n",
    "\n",
    "\n",
    "Examples:\n",
    "\n",
    "Lectures will be delivered at the following places on day, site, place, by Mr. Name. \n",
    "\n",
    "Lectures will be delivered at the following places on day, time:- site, place, by Mr. Name. Site, place, by Mr. Name. \n",
    "\n",
    "Lectures will be delivered at the following places on day, time: - site, place, by Mr. Name. Site, place, by Mr. Name. \n",
    "\n",
    "Lectures will be delivered at the following places by Name : - On day, date, at place ; day, date, at place, in the site, at time. \n",
    "\n",
    "Mr. Name will visit the following places during next week, viz — day, at place; day, at place; day, at place.\n",
    "\n",
    "Mr. Name’s route for the ensuing week: — place, day, date; place, day, date; and at place, on day, date.\n",
    "\n",
    "Mr. Name’s route for the ensuing week:— place, day, date; place, day, date; and at place, on day, date.\n",
    "\n",
    "On day, Mr. Name will lecture here, at time.\n",
    "\n",
    "Mr. Name will lecture on day, time, at site, place.\n",
    "\n",
    "Mr. Name, of place, will deliver a lecture in site, place, on day time, date.\n"
   ]
  }
 ],
 "metadata": {
  "kernelspec": {
   "display_name": "Python 3",
   "language": "python",
   "name": "python3"
  },
  "language_info": {
   "codemirror_mode": {
    "name": "ipython",
    "version": 3
   },
   "file_extension": ".py",
   "mimetype": "text/x-python",
   "name": "python",
   "nbconvert_exporter": "python",
   "pygments_lexer": "ipython3",
   "version": "3.4.3"
  }
 },
 "nbformat": 4,
 "nbformat_minor": 0
}
