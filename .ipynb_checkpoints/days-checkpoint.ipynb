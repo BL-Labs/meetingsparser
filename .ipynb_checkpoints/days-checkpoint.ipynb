{
 "cells": [
  {
   "cell_type": "markdown",
   "metadata": {},
   "source": [
    "\"day\" = first number in the \"date\" column of metadataNorthernStar.csv - e.g. \"13/02/1841\", day = 13\n",
    "change instances of \"word\" to \"day\"\n",
    "to-morrow = day + 1 \n",
    "tomorrow = day + 1\n",
    "Sunday = day + 1\n",
    "on Sunday, = date + 1 \n",
    "Sunday next, = date + 8 \n",
    "Sunday inst., = date + 1 \n",
    "Monday, = date + 2 \n",
    "on Monday, = date + 2 \n",
    "Monday next, = date + 2 \n",
    "Monday inst., = date + 2 \n",
    "this Monday, = date + 2 \n",
    "Tuesday, = date + 3 \n",
    "on Tuesday, = date + 3 \n",
    "this Tuesday, = date + 3 \n",
    "Tuesday next, = date + 3 \n",
    "Tuesday inst., = date + 3 \n",
    "Wednesday, = date + 4 \n",
    "this Wednesday, = date + 4 \n",
    "on Wednesday, = date + 4 \n",
    "Wednesday next, = date + 4 \n",
    "Wednesday inst., = date + 4 \n",
    "Thursday, = date + 5 \n",
    "on Thursday, = date + 5 \n",
    "Thursday next, = date + 5 \n",
    "this Thursday, = date + 5 \n",
    "Thursday inst.,\t= date + 5 \n",
    "Friday,\t= date + 6 \n",
    "on Friday, = date + 6\n",
    "Friday next, = date + 6 \n",
    "Friday inst., = date + 6 \n",
    "on Saturday next, = date + 7 \n",
    "Saturday next, = date + 7 \n",
    "\n",
    "\n"
   ]
  }
 ],
 "metadata": {
  "kernelspec": {
   "display_name": "Python 3",
   "language": "python",
   "name": "python3"
  },
  "language_info": {
   "codemirror_mode": {
    "name": "ipython",
    "version": 3
   },
   "file_extension": ".py",
   "mimetype": "text/x-python",
   "name": "python",
   "nbconvert_exporter": "python",
   "pygments_lexer": "ipython3",
   "version": "3.4.3"
  }
 },
 "nbformat": 4,
 "nbformat_minor": 0
}
