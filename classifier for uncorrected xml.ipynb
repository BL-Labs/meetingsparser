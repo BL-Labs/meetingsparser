{
 "cells": [
  {
   "cell_type": "markdown",
   "metadata": {},
   "source": [
    "some common patterns:\n",
    "\n",
    "CAPITAL LETTERS at the start of the sentence for each meeting.\n",
    "\n",
    "often followed by .-  \"CAPITAL LETTERS.- the meeting...\" \n",
    "\n",
    "day of the week - usually in the paragraph\n",
    "\n",
    "'in the evening' - often in the paragraph\n",
    "\n",
    "\n",
    "\n",
    "\n",
    "start of column is always headed 'forthcoming Chartist meetings', but the xml is often mangled for this - e.g.\n",
    "\n",
    "<pageWord coord=\"846,287,1126,349\">fortDoorainvi</pageWord>\n",
    "<pageWord coord=\"1125,276,1335,350\">gtart(Ot</pageWord>\n",
    "<pageWord coord=\"1332,272,1560,350\">-;Plcc.t(tTO</pageWord>"
   ]
  }
 ],
 "metadata": {
  "kernelspec": {
   "display_name": "Python 3",
   "language": "python",
   "name": "python3"
  },
  "language_info": {
   "codemirror_mode": {
    "name": "ipython",
    "version": 3
   },
   "file_extension": ".py",
   "mimetype": "text/x-python",
   "name": "python",
   "nbconvert_exporter": "python",
   "pygments_lexer": "ipython3",
   "version": "3.4.3"
  }
 },
 "nbformat": 4,
 "nbformat_minor": 0
}
